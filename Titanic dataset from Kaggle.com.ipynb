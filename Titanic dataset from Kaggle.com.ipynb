{
 "cells": [
  {
   "cell_type": "markdown",
   "metadata": {},
   "source": [
    "# This notebook is my work on Titanic dataset from kaggle.com"
   ]
  },
  {
   "cell_type": "code",
   "execution_count": 1,
   "metadata": {},
   "outputs": [],
   "source": [
    "# imports for data visualization and preprocessing\n",
    "import numpy as np\n",
    "import pandas as pd\n",
    "import matplotlib.pyplot as plt\n",
    "import seaborn as sns\n",
    "%matplotlib inline\n",
    "sns.set_style(\"darkgrid\")"
   ]
  },
  {
   "cell_type": "code",
   "execution_count": 2,
   "metadata": {},
   "outputs": [],
   "source": [
    "# reading the data\n",
    "train = pd.read_csv(\"train.csv\")\n",
    "test = pd.read_csv(\"test.csv\")"
   ]
  },
  {
   "cell_type": "markdown",
   "metadata": {},
   "source": [
    "## So the plan is visualize and preprocess data from train set and do same preprocessing to test set. Then train different machine learning models on training test, pick the best two (competition uses accuracy score as evaluation so that's what I'm going to us as well), try to tune them a bit hoping to get a better score, use the best one on test set and submit the result"
   ]
  },
  {
   "cell_type": "code",
   "execution_count": 3,
   "metadata": {},
   "outputs": [
    {
     "name": "stdout",
     "output_type": "stream",
     "text": [
      "<class 'pandas.core.frame.DataFrame'>\n",
      "RangeIndex: 891 entries, 0 to 890\n",
      "Data columns (total 12 columns):\n",
      " #   Column       Non-Null Count  Dtype  \n",
      "---  ------       --------------  -----  \n",
      " 0   PassengerId  891 non-null    int64  \n",
      " 1   Survived     891 non-null    int64  \n",
      " 2   Pclass       891 non-null    int64  \n",
      " 3   Name         891 non-null    object \n",
      " 4   Sex          891 non-null    object \n",
      " 5   Age          714 non-null    float64\n",
      " 6   SibSp        891 non-null    int64  \n",
      " 7   Parch        891 non-null    int64  \n",
      " 8   Ticket       891 non-null    object \n",
      " 9   Fare         891 non-null    float64\n",
      " 10  Cabin        204 non-null    object \n",
      " 11  Embarked     889 non-null    object \n",
      "dtypes: float64(2), int64(5), object(5)\n",
      "memory usage: 83.7+ KB\n"
     ]
    }
   ],
   "source": [
    "# check general info on the datasets\n",
    "train.info()"
   ]
  },
  {
   "cell_type": "code",
   "execution_count": 4,
   "metadata": {},
   "outputs": [
    {
     "name": "stdout",
     "output_type": "stream",
     "text": [
      "<class 'pandas.core.frame.DataFrame'>\n",
      "RangeIndex: 418 entries, 0 to 417\n",
      "Data columns (total 11 columns):\n",
      " #   Column       Non-Null Count  Dtype  \n",
      "---  ------       --------------  -----  \n",
      " 0   PassengerId  418 non-null    int64  \n",
      " 1   Pclass       418 non-null    int64  \n",
      " 2   Name         418 non-null    object \n",
      " 3   Sex          418 non-null    object \n",
      " 4   Age          332 non-null    float64\n",
      " 5   SibSp        418 non-null    int64  \n",
      " 6   Parch        418 non-null    int64  \n",
      " 7   Ticket       418 non-null    object \n",
      " 8   Fare         417 non-null    float64\n",
      " 9   Cabin        91 non-null     object \n",
      " 10  Embarked     418 non-null    object \n",
      "dtypes: float64(2), int64(4), object(5)\n",
      "memory usage: 36.0+ KB\n"
     ]
    }
   ],
   "source": [
    "test.info()"
   ]
  },
  {
   "cell_type": "markdown",
   "metadata": {},
   "source": [
    "### \"Cabin\" columns in both train and test datasets have too many values missing. I will just drop them out. \n",
    "### \"SibSP\" and \"Parch\" columns basically show family members travelling with the passenger so I'll create column \"Family\" instead of them with 0s if no family members were on board and 1s if there were any family member. Then I'll drop \"SibSP\" and \"Parch\" columns as well"
   ]
  },
  {
   "cell_type": "code",
   "execution_count": 5,
   "metadata": {},
   "outputs": [],
   "source": [
    "# creating new column Family using list comprehention\n",
    "train[\"Family\"] = [0 if train[\"SibSp\"][i] == 0 and train[\"Parch\"][i] == 0 else 1 for i in range(len(train[\"Parch\"]))]\n",
    "test[\"Family\"] = [0 if test[\"SibSp\"][i] == 0 and test[\"Parch\"][i] == 0 else 1 for i in range(len(test[\"Parch\"]))]\n",
    "\n",
    "# dropping columns out\n",
    "train.drop([\"Cabin\",\"SibSp\",\"Parch\"], axis=1, inplace=True)\n",
    "test.drop([\"Cabin\",\"SibSp\",\"Parch\"], axis=1, inplace=True)"
   ]
  },
  {
   "cell_type": "markdown",
   "metadata": {},
   "source": [
    "### Now I need to deal with missing values.\n",
    "### \"Embarked\" column on train set has only two values missing. I think I can fill it with the most popular port of embarkment"
   ]
  },
  {
   "cell_type": "code",
   "execution_count": 6,
   "metadata": {},
   "outputs": [
    {
     "data": {
      "text/plain": [
       "<AxesSubplot:xlabel='Embarked', ylabel='count'>"
      ]
     },
     "execution_count": 6,
     "metadata": {},
     "output_type": "execute_result"
    },
    {
     "data": {
      "image/png": "[encoded data removed]",
      "text/plain": [
       "<Figure size 432x288 with 1 Axes>"
      ]
     },
     "metadata": {},
     "output_type": "display_data"
    }
   ],
   "source": [
    "# countplot to find out which port was the most popular to embark from\n",
    "sns.countplot(train[\"Embarked\"])"
   ]
  },
  {
   "cell_type": "markdown",
   "metadata": {},
   "source": [
    "### According to the graph it would be pretty safe to put Southampton as port of embarkment instead of two missing values as it was by far the most popular embarkment spot"
   ]
  },
  {
   "cell_type": "code",
   "execution_count": 7,
   "metadata": {},
   "outputs": [],
   "source": [
    "train[\"Embarked\"].fillna(\"S\", inplace=True)"
   ]
  },
  {
   "cell_type": "markdown",
   "metadata": {},
   "source": [
    "### Now to the \"Age\" column. \n",
    "### Normally, I would put mean age values instead of missing ones. But in this case I'll try it a little bit different"
   ]
  },
  {
   "cell_type": "code",
   "execution_count": 8,
   "metadata": {},
   "outputs": [
    {
     "name": "stdout",
     "output_type": "stream",
     "text": [
      "Mean age in train dataset is 29.69911764705882 years old\n",
      "Mean age in test dataset is 30.272590361445783 years old\n"
     ]
    }
   ],
   "source": [
    "# mean age\n",
    "train_meanage = train[\"Age\"].mean()\n",
    "test_meanage = test[\"Age\"].mean()\n",
    "print(f\"Mean age in train dataset is {train_meanage} years old\")\n",
    "print(f\"Mean age in test dataset is {test_meanage} years old\")"
   ]
  },
  {
   "cell_type": "markdown",
   "metadata": {},
   "source": [
    "### So the mean age is around 30 years but this number is a bit different for different classes. The idea is that people of the 1st class were probably older than people of the 2nd or 3rd class"
   ]
  },
  {
   "cell_type": "code",
   "execution_count": 9,
   "metadata": {},
   "outputs": [
    {
     "data": {
      "text/plain": [
       "Pclass\n",
       "1    38.233441\n",
       "2    29.877630\n",
       "3    25.140620\n",
       "Name: Age, dtype: float64"
      ]
     },
     "execution_count": 9,
     "metadata": {},
     "output_type": "execute_result"
    }
   ],
   "source": [
    "train[\"Age\"].groupby(train[\"Pclass\"]).mean()"
   ]
  },
  {
   "cell_type": "code",
   "execution_count": 10,
   "metadata": {},
   "outputs": [
    {
     "data": {
      "text/plain": [
       "Pclass\n",
       "1    40.918367\n",
       "2    28.777500\n",
       "3    24.027945\n",
       "Name: Age, dtype: float64"
      ]
     },
     "execution_count": 10,
     "metadata": {},
     "output_type": "execute_result"
    }
   ],
   "source": [
    "test[\"Age\"].groupby(test[\"Pclass\"]).mean()"
   ]
  },
  {
   "cell_type": "markdown",
   "metadata": {},
   "source": [
    "### It's true! People in the 1st class were older than of the 2nd and the 3rd class. Let's write a function so we could fill in the blanks accordingly"
   ]
  },
  {
   "cell_type": "code",
   "execution_count": 11,
   "metadata": {},
   "outputs": [],
   "source": [
    "def mean_age_train(age_pclass):     # a function would take two columns (\"Age\" and \"Pclass\") as parameters\n",
    "    \n",
    "    age = age_pclass[0]\n",
    "    pclass = age_pclass[1]\n",
    "    \n",
    "    # if the value is missing\n",
    "    if pd.isnull(age):\n",
    "        \n",
    "        # if 1st class\n",
    "        if pclass == 1:\n",
    "            return 38\n",
    "        \n",
    "        # if 2nd class\n",
    "        elif pclass == 2:\n",
    "            return 30\n",
    "        \n",
    "        # if 3rd class\n",
    "        else:\n",
    "            return 25\n",
    "        \n",
    "    # if no values missing    \n",
    "    else:\n",
    "        return age\n",
    "    \n",
    "    \n",
    "# and almost the same for test set\n",
    "def mean_age_test(age_pclass):     # a function would take two columns (\"Age\" and \"Pclass\") as parameters\n",
    "    \n",
    "    age = age_pclass[0]\n",
    "    pclass = age_pclass[1]\n",
    "    \n",
    "    # if the value is missing\n",
    "    if pd.isnull(age):\n",
    "        \n",
    "        # if 1st class\n",
    "        if pclass == 1:\n",
    "            return 41\n",
    "        \n",
    "        # if 2nd class\n",
    "        elif pclass == 2:\n",
    "            return 29\n",
    "        \n",
    "        # if 3rd class\n",
    "        else:\n",
    "            return 24\n",
    "        \n",
    "    # if no values missing    \n",
    "    else:\n",
    "        return age\n",
    "    \n",
    "    \n",
    "# now applying those functions\n",
    "train[\"Age\"] = train[[\"Age\",\"Pclass\"]].apply(mean_age_train, axis=1)\n",
    "test[\"Age\"] = test[[\"Age\",\"Pclass\"]].apply(mean_age_test, axis=1)"
   ]
  },
  {
   "cell_type": "markdown",
   "metadata": {},
   "source": [
    "### Now there is only one missing values left in \"Fare\" column of test dataset. I think I'll same technique as I used for \"Age\" column. Put a mean value according to the class instead of missing one."
   ]
  },
  {
   "cell_type": "code",
   "execution_count": 12,
   "metadata": {},
   "outputs": [
    {
     "data": {
      "text/plain": [
       "Pclass\n",
       "1    94.280297\n",
       "2    22.202104\n",
       "3    12.459678\n",
       "Name: Fare, dtype: float64"
      ]
     },
     "execution_count": 12,
     "metadata": {},
     "output_type": "execute_result"
    }
   ],
   "source": [
    "# mean fare values grouped by class\n",
    "test[\"Fare\"].groupby(test[\"Pclass\"]).mean()"
   ]
  },
  {
   "cell_type": "code",
   "execution_count": 13,
   "metadata": {},
   "outputs": [
    {
     "data": {
      "text/html": [
       "<div>\n",
       "<style scoped>\n",
       "    .dataframe tbody tr th:only-of-type {\n",
       "        vertical-align: middle;\n",
       "    }\n",
       "\n",
       "    .dataframe tbody tr th {\n",
       "        vertical-align: top;\n",
       "    }\n",
       "\n",
       "    .dataframe thead th {\n",
       "        text-align: right;\n",
       "    }\n",
       "</style>\n",
       "<table border=\"1\" class=\"dataframe\">\n",
       "  <thead>\n",
       "    <tr style=\"text-align: right;\">\n",
       "      <th></th>\n",
       "      <th>PassengerId</th>\n",
       "      <th>Pclass</th>\n",
       "      <th>Name</th>\n",
       "      <th>Sex</th>\n",
       "      <th>Age</th>\n",
       "      <th>Ticket</th>\n",
       "      <th>Fare</th>\n",
       "      <th>Embarked</th>\n",
       "      <th>Family</th>\n",
       "    </tr>\n",
       "  </thead>\n",
       "  <tbody>\n",
       "    <tr>\n",
       "      <th>152</th>\n",
       "      <td>1044</td>\n",
       "      <td>3</td>\n",
       "      <td>Storey, Mr. Thomas</td>\n",
       "      <td>male</td>\n",
       "      <td>60.5</td>\n",
       "      <td>3701</td>\n",
       "      <td>NaN</td>\n",
       "      <td>S</td>\n",
       "      <td>0</td>\n",
       "    </tr>\n",
       "  </tbody>\n",
       "</table>\n",
       "</div>"
      ],
      "text/plain": [
       "     PassengerId  Pclass                Name   Sex   Age Ticket  Fare  \\\n",
       "152         1044       3  Storey, Mr. Thomas  male  60.5   3701   NaN   \n",
       "\n",
       "    Embarked  Family  \n",
       "152        S       0  "
      ]
     },
     "execution_count": 13,
     "metadata": {},
     "output_type": "execute_result"
    }
   ],
   "source": [
    "# check what class the passenger with missing value in \"Fare\" column used\n",
    "test[test[\"Fare\"].isnull() == True]"
   ]
  },
  {
   "cell_type": "code",
   "execution_count": 13,
   "metadata": {},
   "outputs": [],
   "source": [
    "# so this person used the 3rd class\n",
    "test[\"Fare\"].fillna(12.46, inplace=True)"
   ]
  },
  {
   "cell_type": "markdown",
   "metadata": {},
   "source": [
    "### Let's check out our datasets again"
   ]
  },
  {
   "cell_type": "code",
   "execution_count": 14,
   "metadata": {},
   "outputs": [
    {
     "name": "stdout",
     "output_type": "stream",
     "text": [
      "<class 'pandas.core.frame.DataFrame'>\n",
      "RangeIndex: 891 entries, 0 to 890\n",
      "Data columns (total 10 columns):\n",
      " #   Column       Non-Null Count  Dtype  \n",
      "---  ------       --------------  -----  \n",
      " 0   PassengerId  891 non-null    int64  \n",
      " 1   Survived     891 non-null    int64  \n",
      " 2   Pclass       891 non-null    int64  \n",
      " 3   Name         891 non-null    object \n",
      " 4   Sex          891 non-null    object \n",
      " 5   Age          891 non-null    float64\n",
      " 6   Ticket       891 non-null    object \n",
      " 7   Fare         891 non-null    float64\n",
      " 8   Embarked     891 non-null    object \n",
      " 9   Family       891 non-null    int64  \n",
      "dtypes: float64(2), int64(4), object(4)\n",
      "memory usage: 69.7+ KB\n"
     ]
    }
   ],
   "source": [
    "train.info()"
   ]
  },
  {
   "cell_type": "code",
   "execution_count": 15,
   "metadata": {},
   "outputs": [
    {
     "name": "stdout",
     "output_type": "stream",
     "text": [
      "<class 'pandas.core.frame.DataFrame'>\n",
      "RangeIndex: 418 entries, 0 to 417\n",
      "Data columns (total 9 columns):\n",
      " #   Column       Non-Null Count  Dtype  \n",
      "---  ------       --------------  -----  \n",
      " 0   PassengerId  418 non-null    int64  \n",
      " 1   Pclass       418 non-null    int64  \n",
      " 2   Name         418 non-null    object \n",
      " 3   Sex          418 non-null    object \n",
      " 4   Age          418 non-null    float64\n",
      " 5   Ticket       418 non-null    object \n",
      " 6   Fare         418 non-null    float64\n",
      " 7   Embarked     418 non-null    object \n",
      " 8   Family       418 non-null    int64  \n",
      "dtypes: float64(2), int64(3), object(4)\n",
      "memory usage: 29.5+ KB\n"
     ]
    }
   ],
   "source": [
    "test.info()"
   ]
  },
  {
   "cell_type": "markdown",
   "metadata": {},
   "source": [
    "### No missing values - good!\n",
    "### Now I'll drop out several columns. \"PassangerId\" - no use in that, \"Name\" - I could get titles out of that but I don't see how that would be usefull. We already have \"Sex\" column and I feel like titles and sex will be to similar. \"Ticket\" - same thing. I think it would be too similar to \"Pclass\" column."
   ]
  },
  {
   "cell_type": "code",
   "execution_count": 16,
   "metadata": {},
   "outputs": [],
   "source": [
    "# dropping the columns mentioned above out\n",
    "train.drop([\"PassengerId\",\"Name\",\"Ticket\"], axis=1, inplace=True)\n",
    "test.drop([\"PassengerId\",\"Name\",\"Ticket\"], axis=1, inplace=True)"
   ]
  },
  {
   "cell_type": "markdown",
   "metadata": {},
   "source": [
    "### Let's visualize survival rate by different sexes, classes, embarkment ports and those who had relatives"
   ]
  },
  {
   "cell_type": "code",
   "execution_count": 17,
   "metadata": {},
   "outputs": [
    {
     "data": {
      "text/plain": [
       "<AxesSubplot:xlabel='Family', ylabel='count'>"
      ]
     },
     "execution_count": 17,
     "metadata": {},
     "output_type": "execute_result"
    },
    {
     "data": {
      "image/png": "[encoded data removed]",
      "text/plain": [
       "<Figure size 864x432 with 4 Axes>"
      ]
     },
     "metadata": {},
     "output_type": "display_data"
    }
   ],
   "source": [
    "fig, axes = plt.subplots(nrows=2, ncols=2, figsize=(12,6), sharey=True)\n",
    "sns.countplot(x=\"Sex\", hue=\"Survived\", data=train, ax=axes[0][0])\n",
    "sns.countplot(x=\"Pclass\", hue=\"Survived\", data=train, ax=axes[0][1])\n",
    "sns.countplot(x=\"Embarked\", hue=\"Survived\", data=train, ax=axes[1][0])\n",
    "sns.countplot(x=\"Family\", hue=\"Survived\", data=train, ax=axes[1][1])"
   ]
  },
  {
   "cell_type": "markdown",
   "metadata": {},
   "source": [
    "### According to the graphs, we can see that there were 2,5 times more females survived than males(females were one of the first ones to board lifeboats), more than half of passengers of the 1st class survived (they occupied top decks of the ship). Most of the dead and survived embarked in Southampton (makes sense considering it was the most popular port of embarkment) and half of those who had family members on board survived."
   ]
  },
  {
   "cell_type": "markdown",
   "metadata": {},
   "source": [
    "## I think it's all set for machine learning part now!"
   ]
  },
  {
   "cell_type": "markdown",
   "metadata": {},
   "source": [
    "### Let's see the features we're working with again"
   ]
  },
  {
   "cell_type": "code",
   "execution_count": 18,
   "metadata": {},
   "outputs": [
    {
     "name": "stdout",
     "output_type": "stream",
     "text": [
      "<class 'pandas.core.frame.DataFrame'>\n",
      "RangeIndex: 891 entries, 0 to 890\n",
      "Data columns (total 7 columns):\n",
      " #   Column    Non-Null Count  Dtype  \n",
      "---  ------    --------------  -----  \n",
      " 0   Survived  891 non-null    int64  \n",
      " 1   Pclass    891 non-null    int64  \n",
      " 2   Sex       891 non-null    object \n",
      " 3   Age       891 non-null    float64\n",
      " 4   Fare      891 non-null    float64\n",
      " 5   Embarked  891 non-null    object \n",
      " 6   Family    891 non-null    int64  \n",
      "dtypes: float64(2), int64(3), object(2)\n",
      "memory usage: 48.9+ KB\n"
     ]
    }
   ],
   "source": [
    "train.info()"
   ]
  },
  {
   "cell_type": "code",
   "execution_count": 19,
   "metadata": {},
   "outputs": [
    {
     "name": "stdout",
     "output_type": "stream",
     "text": [
      "<class 'pandas.core.frame.DataFrame'>\n",
      "RangeIndex: 418 entries, 0 to 417\n",
      "Data columns (total 6 columns):\n",
      " #   Column    Non-Null Count  Dtype  \n",
      "---  ------    --------------  -----  \n",
      " 0   Pclass    418 non-null    int64  \n",
      " 1   Sex       418 non-null    object \n",
      " 2   Age       418 non-null    float64\n",
      " 3   Fare      418 non-null    float64\n",
      " 4   Embarked  418 non-null    object \n",
      " 5   Family    418 non-null    int64  \n",
      "dtypes: float64(2), int64(2), object(2)\n",
      "memory usage: 19.7+ KB\n"
     ]
    }
   ],
   "source": [
    "test.info()"
   ]
  },
  {
   "cell_type": "markdown",
   "metadata": {},
   "source": [
    "### OK, I'll have to convert categorical data (\"Embarked\" and \"Sex\" columns) into numerical, scale the data. I want to use cross validation with accuracy score as evaluation metric. Also I'll try different machine learning techniques for classification (logistic regression, decision tree, random forest, knn, support vector machines, adaptive boosting and extreme gradient boosting). Then I'll do grid search for tuning top 2 models trying to get them to perform better."
   ]
  },
  {
   "cell_type": "code",
   "execution_count": 20,
   "metadata": {},
   "outputs": [],
   "source": [
    "# imports and variables for ml\n",
    "from sklearn.preprocessing import LabelEncoder, StandardScaler  # for labeling and scaling\n",
    "\n",
    "# cross validation\n",
    "from sklearn.model_selection import cross_val_score\n",
    "\n",
    "# evaluation\n",
    "from sklearn.metrics import accuracy_score\n",
    "\n",
    "# tunning\n",
    "from sklearn.model_selection import GridSearchCV\n",
    "\n",
    "# logistic regression\n",
    "from sklearn.linear_model import LogisticRegression\n",
    "logr = LogisticRegression()\n",
    "\n",
    "# knn\n",
    "from sklearn.neighbors import KNeighborsClassifier\n",
    "knn = KNeighborsClassifier()\n",
    "\n",
    "# decision tree\n",
    "from sklearn.tree import DecisionTreeClassifier\n",
    "dtree = DecisionTreeClassifier()\n",
    "\n",
    "# random forest\n",
    "from sklearn.ensemble import RandomForestClassifier\n",
    "rfc = RandomForestClassifier()\n",
    "\n",
    "# support vector machines\n",
    "from sklearn.svm import SVC\n",
    "sv = SVC()\n",
    "\n",
    "# adaptive boosting\n",
    "from sklearn.ensemble import AdaBoostClassifier\n",
    "adaboost = AdaBoostClassifier(base_estimator=dtree)\n",
    "\n",
    "# extreme gradient boosting\n",
    "from xgboost import XGBClassifier\n",
    "xgb = XGBClassifier()"
   ]
  },
  {
   "cell_type": "markdown",
   "metadata": {},
   "source": [
    "### Label and scale data first"
   ]
  },
  {
   "cell_type": "code",
   "execution_count": 21,
   "metadata": {},
   "outputs": [],
   "source": [
    "# split train dataset into X and y\n",
    "X = train.drop(\"Survived\", axis=1)\n",
    "y = train[\"Survived\"]\n",
    "\n",
    "# labeling\n",
    "columns = [\"Sex\",\"Embarked\"]\n",
    "for column in columns:\n",
    "    X[column] = LabelEncoder().fit_transform(X[column])\n",
    "    test[column] = LabelEncoder().fit_transform(test[column])\n",
    "\n",
    "# scaling\n",
    "scaler = StandardScaler().fit(X)\n",
    "X = scaler.transform(X)\n",
    "test = scaler.transform(test)"
   ]
  },
  {
   "cell_type": "markdown",
   "metadata": {},
   "source": [
    "### I want to use a for loop to train every model and print out mean accuracy score"
   ]
  },
  {
   "cell_type": "code",
   "execution_count": 22,
   "metadata": {},
   "outputs": [
    {
     "name": "stdout",
     "output_type": "stream",
     "text": [
      "Logistic regression's mean accuracy score is 0.7901498127340825\n",
      "K-Nearest Neighbors's mean accuracy score is 0.802521847690387\n",
      "Decision tree's mean accuracy score is 0.7890886392009987\n",
      "Random forest's mean accuracy score is 0.8070287141073658\n",
      "Support Vector Machines's mean accuracy score is 0.8125468164794007\n",
      "Adaptive boosting's mean accuracy score is 0.802521847690387\n",
      "Extreme gradient boosting's mean accuracy score is 0.8126342072409487\n"
     ]
    }
   ],
   "source": [
    "models = {\n",
    "    \"Logistic regression\":logr,\n",
    "    \"K-Nearest Neighbors\":knn,\n",
    "    \"Decision tree\":dtree,\n",
    "    \"Random forest\":rfc,\n",
    "    \"Support Vector Machines\":sv,\n",
    "    \"Adaptive boosting\":adaboost,\n",
    "    \"Extreme gradient boosting\":xgb\n",
    "}\n",
    "\n",
    "for variable, model in models.items():\n",
    "    print(f\"{variable}'s mean accuracy score is {cross_val_score(model, X, y, cv=10, scoring='accuracy').mean()}\")"
   ]
  },
  {
   "cell_type": "markdown",
   "metadata": {},
   "source": [
    "### So the best two are XGBoost and Support vector machines. But Support vector machines is very slow (Seriously, I tried to tune it once and it took way too much time for almost no improvement) so I think I'll use XGBoost and Random forest this time.\n",
    "### I want to try to tune them to see if I can make them perform better. Using Grid search for that."
   ]
  },
  {
   "cell_type": "code",
   "execution_count": 67,
   "metadata": {},
   "outputs": [
    {
     "name": "stdout",
     "output_type": "stream",
     "text": [
      "Best score is 0.8395630461922596\n",
      "Best parameters are {'gamma': 0.001, 'learning_rate': 0.1, 'max_depth': 5, 'min_child_weight': 5, 'n_estimators': 300}\n"
     ]
    }
   ],
   "source": [
    "# start with xgboost parameters\n",
    "xgb_params = {\n",
    "    \n",
    "    \"learning_rate\":[1,0.1,0.01,0.001],\n",
    "    \"n_estimators\":[100,150,300,600,1000],\n",
    "    \"max_depth\":range(3,10,2),\n",
    "    \"min_child_weight\":range(1,6,2),\n",
    "    \"gamma\": [1, 0.1, 0.01, 0.001, 0.0001]\n",
    "}\n",
    "\n",
    "xgb_grid = GridSearchCV(estimator=XGBClassifier(),\n",
    "                       param_grid=xgb_params,\n",
    "                       cv=10, scoring=\"accuracy\")\n",
    "xgb_grid.fit(X,y)\n",
    "\n",
    "# best score and parameters\n",
    "print(f\"Best score is {xgb_grid.best_score_}\")\n",
    "print(f\"Best parameters are {xgb_grid.best_params_}\")"
   ]
  },
  {
   "cell_type": "code",
   "execution_count": 24,
   "metadata": {},
   "outputs": [
    {
     "name": "stdout",
     "output_type": "stream",
     "text": [
      "Best score is 0.8373033707865168\n",
      "Best parameters are {'bootstrap': True, 'criterion': 'entropy', 'max_depth': 30, 'max_features': 'log2', 'min_samples_leaf': 2, 'min_samples_split': 5, 'n_estimators': 100}\n"
     ]
    }
   ],
   "source": [
    "# and random forest\n",
    "rfc_params = {\n",
    "    \"criterion\":[\"gini\",\"entropy\"],\n",
    "    \"n_estimators\":[100,150,300,600,1000],\n",
    "    \"max_depth\":[None,10,20,30,40,50,60,70,80,90,100],\n",
    "    \"min_samples_leaf\":[1,2,4],\n",
    "    \"min_samples_split\":[2,5,10],\n",
    "    \"max_features\":[\"auto\",\"sqrt\",\"log2\"],\n",
    "    \"bootstrap\":[True,False]\n",
    "}\n",
    "\n",
    "rfc_grid = GridSearchCV(estimator=RandomForestClassifier(),\n",
    "                       param_grid=rfc_params,\n",
    "                       cv=10, scoring=\"accuracy\")\n",
    "rfc_grid.fit(X,y)\n",
    "\n",
    "# best score and parameters\n",
    "print(f\"Best score is {rfc_grid.best_score_}\")\n",
    "print(f\"Best parameters are {rfc_grid.best_params_}\")"
   ]
  },
  {
   "cell_type": "markdown",
   "metadata": {},
   "source": [
    "### It's good I didn't hold my breath for that. Took a bit of a time :-)\n",
    "### Now I'll set XGBoost with optimal parameters and do predictions"
   ]
  },
  {
   "cell_type": "code",
   "execution_count": 23,
   "metadata": {},
   "outputs": [],
   "source": [
    "opt_xgb = XGBClassifier(gamma=0.001,\n",
    "                       learning_rate=0.1,\n",
    "                       max_depth=5,\n",
    "                       min_child_weight=5,\n",
    "                       n_estimators=300)"
   ]
  },
  {
   "cell_type": "code",
   "execution_count": 25,
   "metadata": {},
   "outputs": [
    {
     "data": {
      "text/plain": [
       "XGBClassifier(base_score=0.5, booster='gbtree', colsample_bylevel=1,\n",
       "              colsample_bynode=1, colsample_bytree=1, gamma=0.001, gpu_id=-1,\n",
       "              importance_type='gain', interaction_constraints='',\n",
       "              learning_rate=0.1, max_delta_step=0, max_depth=5,\n",
       "              min_child_weight=5, missing=nan, monotone_constraints='()',\n",
       "              n_estimators=300, n_jobs=0, num_parallel_tree=1, random_state=0,\n",
       "              reg_alpha=0, reg_lambda=1, scale_pos_weight=1, subsample=1,\n",
       "              tree_method='exact', validate_parameters=1, verbosity=None)"
      ]
     },
     "execution_count": 25,
     "metadata": {},
     "output_type": "execute_result"
    }
   ],
   "source": [
    "# train the model\n",
    "opt_xgb.fit(X,y)"
   ]
  },
  {
   "cell_type": "code",
   "execution_count": 26,
   "metadata": {},
   "outputs": [],
   "source": [
    "# predictions\n",
    "predict = opt_xgb.predict(test)"
   ]
  },
  {
   "cell_type": "markdown",
   "metadata": {},
   "source": [
    "### I should've saved \"PassengerID\" column from the test data set for submission. Now, I'll have to read .csv file again, then I'll take that column and concat it with predictions and save the new dataframe into submission.csv file."
   ]
  },
  {
   "cell_type": "code",
   "execution_count": 31,
   "metadata": {},
   "outputs": [],
   "source": [
    "# reading test.csv again\n",
    "for_submission = pd.read_csv(\"test.csv\")\n",
    "\n",
    "# predictions into dataframe\n",
    "prediction_df = pd.DataFrame(data=predict, columns=[\"Survived\"])\n",
    "\n",
    "# submission dataframe\n",
    "submission = pd.concat([for_submission[\"PassengerId\"], prediction_df], axis=1)\n",
    "\n",
    "# submission dataframe into .csv file\n",
    "submission.to_csv(\"submission.csv\", index=False)"
   ]
  },
  {
   "cell_type": "markdown",
   "metadata": {},
   "source": [
    "## This file was submitted to kaggle.com with the score of 0.76315 which I think a decent result for my first competition!"
   ]
  },
  {
   "cell_type": "markdown",
   "metadata": {},
   "source": [
    "#### Any tips, hints, ideas, etc. to improve the score are very welcome!"
   ]
  },
  {
   "cell_type": "markdown",
   "metadata": {},
   "source": [
    "## PS \n",
    "### I decided to submit predictions of the tuned random forest as well. The result turned out to be slightly better - 0.77990. But I still think Extreme gradient boosting would be a better option because it took much less time tunning it than Random forest. "
   ]
  },
  {
   "cell_type": "code",
   "execution_count": 33,
   "metadata": {},
   "outputs": [],
   "source": [
    "# optimal parameters for random forest\n",
    "opt_rfc = RandomForestClassifier(criterion=\"entropy\",\n",
    "                                max_features=\"log2\",\n",
    "                                bootstrap=True,\n",
    "                                max_depth=30,\n",
    "                                min_samples_leaf=2,\n",
    "                                min_samples_split=5,\n",
    "                                n_estimators=100)\n",
    "\n",
    "# training the model\n",
    "opt_rfc.fit(X,y)\n",
    "\n",
    "# predictions into dataframe\n",
    "pred = pd.DataFrame(data=opt_rfc.predict(test), columns=[\"Survived\"])\n",
    "\n",
    "# submission dataframe\n",
    "rfc_pred = pd.concat([for_submission[\"PassengerId\"], pred], axis=1)\n",
    "\n",
    "# submission dataframe to .csv file\n",
    "rfc_pred.to_csv(\"rfc_pred.csv\", index=False)"
   ]
  },
  {
   "cell_type": "code",
   "execution_count": null,
   "metadata": {},
   "outputs": [],
   "source": []
  }
 ],
 "metadata": {
  "kernelspec": {
   "display_name": "Python 3",
   "language": "python",
   "name": "python3"
  },
  "language_info": {
   "codemirror_mode": {
    "name": "ipython",
    "version": 3
   },
   "file_extension": ".py",
   "mimetype": "text/x-python",
   "name": "python",
   "nbconvert_exporter": "python",
   "pygments_lexer": "ipython3",
   "version": "3.7.8"
  }
 },
 "nbformat": 4,
 "nbformat_minor": 4
}
